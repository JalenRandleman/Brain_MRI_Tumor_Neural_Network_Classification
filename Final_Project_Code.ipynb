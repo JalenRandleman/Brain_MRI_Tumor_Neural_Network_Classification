{
 "cells": [
  {
   "cell_type": "code",
   "execution_count": 4,
   "id": "fc19f309",
   "metadata": {},
   "outputs": [],
   "source": [
    "import numpy as np\n",
    "import pandas as pd\n",
    "import seaborn as sns\n",
    "import matplotlib.pyplot as plt\n",
    "import tensorflow as tf\n",
    "import os"
   ]
  },
  {
   "cell_type": "code",
   "execution_count": 5,
   "id": "9ceb3018",
   "metadata": {},
   "outputs": [],
   "source": [
    "def train_df(tr_path):\n",
    "    classes, class_paths = zip(*[(label, os.path.join(tr_path, label, image))\n",
    "                                 for label in os.listdir(tr_path) if os.path.isdir(os.path.join(tr_path, label))\n",
    "                                 for image in os.listdir(os.path.join(tr_path, label))]) \n",
    "    tr_df = pd.DataFrame({\"Class Path\": class_paths, \"Class\": classes})\n",
    "    return tr_df"
   ]
  },
  {
   "cell_type": "code",
   "execution_count": 6,
   "id": "11b1a097",
   "metadata": {},
   "outputs": [],
   "source": [
    "def test_df(ts_path):\n",
    "    classes, class_paths = zip(*[(label, os.path.join(ts_path, label, image))\n",
    "                                 for label in os.listdir(ts_path) if os.path.isdir(os.path.join(ts_path, label))\n",
    "                                 for image in os.listdir(os.path.join(ts_path, label))])\n",
    "    ts_df = pd.DataFrame({\"Class Path\": class_paths, \"Class\": classes})\n",
    "    return ts_df"
   ]
  },
  {
   "cell_type": "code",
   "execution_count": 9,
   "id": "588317c5",
   "metadata": {},
   "outputs": [],
   "source": [
    "tr_df = train_df(r\"C:\\Users\\jalen\\OneDrive - University of Mount Union\\Fall 2025\\DSC_340\\Final Project\\archive\\Training\")\n",
    "ts_df = test_df(r\"C:\\Users\\jalen\\OneDrive - University of Mount Union\\Fall 2025\\DSC_340\\Final Project\\archive\\Testing\")"
   ]
  },
  {
   "cell_type": "code",
   "execution_count": 10,
   "id": "bc7bd0f8",
   "metadata": {},
   "outputs": [
    {
     "data": {
      "text/html": [
       "<div>\n",
       "<style scoped>\n",
       "    .dataframe tbody tr th:only-of-type {\n",
       "        vertical-align: middle;\n",
       "    }\n",
       "\n",
       "    .dataframe tbody tr th {\n",
       "        vertical-align: top;\n",
       "    }\n",
       "\n",
       "    .dataframe thead th {\n",
       "        text-align: right;\n",
       "    }\n",
       "</style>\n",
       "<table border=\"1\" class=\"dataframe\">\n",
       "  <thead>\n",
       "    <tr style=\"text-align: right;\">\n",
       "      <th></th>\n",
       "      <th>Class Path</th>\n",
       "      <th>Class</th>\n",
       "    </tr>\n",
       "  </thead>\n",
       "  <tbody>\n",
       "    <tr>\n",
       "      <th>0</th>\n",
       "      <td>C:\\Users\\jalen\\OneDrive - University of Mount ...</td>\n",
       "      <td>glioma</td>\n",
       "    </tr>\n",
       "    <tr>\n",
       "      <th>1</th>\n",
       "      <td>C:\\Users\\jalen\\OneDrive - University of Mount ...</td>\n",
       "      <td>glioma</td>\n",
       "    </tr>\n",
       "    <tr>\n",
       "      <th>2</th>\n",
       "      <td>C:\\Users\\jalen\\OneDrive - University of Mount ...</td>\n",
       "      <td>glioma</td>\n",
       "    </tr>\n",
       "    <tr>\n",
       "      <th>3</th>\n",
       "      <td>C:\\Users\\jalen\\OneDrive - University of Mount ...</td>\n",
       "      <td>glioma</td>\n",
       "    </tr>\n",
       "    <tr>\n",
       "      <th>4</th>\n",
       "      <td>C:\\Users\\jalen\\OneDrive - University of Mount ...</td>\n",
       "      <td>glioma</td>\n",
       "    </tr>\n",
       "    <tr>\n",
       "      <th>...</th>\n",
       "      <td>...</td>\n",
       "      <td>...</td>\n",
       "    </tr>\n",
       "    <tr>\n",
       "      <th>5707</th>\n",
       "      <td>C:\\Users\\jalen\\OneDrive - University of Mount ...</td>\n",
       "      <td>pituitary</td>\n",
       "    </tr>\n",
       "    <tr>\n",
       "      <th>5708</th>\n",
       "      <td>C:\\Users\\jalen\\OneDrive - University of Mount ...</td>\n",
       "      <td>pituitary</td>\n",
       "    </tr>\n",
       "    <tr>\n",
       "      <th>5709</th>\n",
       "      <td>C:\\Users\\jalen\\OneDrive - University of Mount ...</td>\n",
       "      <td>pituitary</td>\n",
       "    </tr>\n",
       "    <tr>\n",
       "      <th>5710</th>\n",
       "      <td>C:\\Users\\jalen\\OneDrive - University of Mount ...</td>\n",
       "      <td>pituitary</td>\n",
       "    </tr>\n",
       "    <tr>\n",
       "      <th>5711</th>\n",
       "      <td>C:\\Users\\jalen\\OneDrive - University of Mount ...</td>\n",
       "      <td>pituitary</td>\n",
       "    </tr>\n",
       "  </tbody>\n",
       "</table>\n",
       "<p>5712 rows × 2 columns</p>\n",
       "</div>"
      ],
      "text/plain": [
       "                                             Class Path      Class\n",
       "0     C:\\Users\\jalen\\OneDrive - University of Mount ...     glioma\n",
       "1     C:\\Users\\jalen\\OneDrive - University of Mount ...     glioma\n",
       "2     C:\\Users\\jalen\\OneDrive - University of Mount ...     glioma\n",
       "3     C:\\Users\\jalen\\OneDrive - University of Mount ...     glioma\n",
       "4     C:\\Users\\jalen\\OneDrive - University of Mount ...     glioma\n",
       "...                                                 ...        ...\n",
       "5707  C:\\Users\\jalen\\OneDrive - University of Mount ...  pituitary\n",
       "5708  C:\\Users\\jalen\\OneDrive - University of Mount ...  pituitary\n",
       "5709  C:\\Users\\jalen\\OneDrive - University of Mount ...  pituitary\n",
       "5710  C:\\Users\\jalen\\OneDrive - University of Mount ...  pituitary\n",
       "5711  C:\\Users\\jalen\\OneDrive - University of Mount ...  pituitary\n",
       "\n",
       "[5712 rows x 2 columns]"
      ]
     },
     "execution_count": 10,
     "metadata": {},
     "output_type": "execute_result"
    }
   ],
   "source": [
    "tr_df"
   ]
  },
  {
   "cell_type": "code",
   "execution_count": 11,
   "id": "a8b7c8a8",
   "metadata": {},
   "outputs": [
    {
     "data": {
      "text/html": [
       "<div>\n",
       "<style scoped>\n",
       "    .dataframe tbody tr th:only-of-type {\n",
       "        vertical-align: middle;\n",
       "    }\n",
       "\n",
       "    .dataframe tbody tr th {\n",
       "        vertical-align: top;\n",
       "    }\n",
       "\n",
       "    .dataframe thead th {\n",
       "        text-align: right;\n",
       "    }\n",
       "</style>\n",
       "<table border=\"1\" class=\"dataframe\">\n",
       "  <thead>\n",
       "    <tr style=\"text-align: right;\">\n",
       "      <th></th>\n",
       "      <th>Class Path</th>\n",
       "      <th>Class</th>\n",
       "    </tr>\n",
       "  </thead>\n",
       "  <tbody>\n",
       "    <tr>\n",
       "      <th>0</th>\n",
       "      <td>C:\\Users\\jalen\\OneDrive - University of Mount ...</td>\n",
       "      <td>glioma</td>\n",
       "    </tr>\n",
       "    <tr>\n",
       "      <th>1</th>\n",
       "      <td>C:\\Users\\jalen\\OneDrive - University of Mount ...</td>\n",
       "      <td>glioma</td>\n",
       "    </tr>\n",
       "    <tr>\n",
       "      <th>2</th>\n",
       "      <td>C:\\Users\\jalen\\OneDrive - University of Mount ...</td>\n",
       "      <td>glioma</td>\n",
       "    </tr>\n",
       "    <tr>\n",
       "      <th>3</th>\n",
       "      <td>C:\\Users\\jalen\\OneDrive - University of Mount ...</td>\n",
       "      <td>glioma</td>\n",
       "    </tr>\n",
       "    <tr>\n",
       "      <th>4</th>\n",
       "      <td>C:\\Users\\jalen\\OneDrive - University of Mount ...</td>\n",
       "      <td>glioma</td>\n",
       "    </tr>\n",
       "    <tr>\n",
       "      <th>...</th>\n",
       "      <td>...</td>\n",
       "      <td>...</td>\n",
       "    </tr>\n",
       "    <tr>\n",
       "      <th>1306</th>\n",
       "      <td>C:\\Users\\jalen\\OneDrive - University of Mount ...</td>\n",
       "      <td>pituitary</td>\n",
       "    </tr>\n",
       "    <tr>\n",
       "      <th>1307</th>\n",
       "      <td>C:\\Users\\jalen\\OneDrive - University of Mount ...</td>\n",
       "      <td>pituitary</td>\n",
       "    </tr>\n",
       "    <tr>\n",
       "      <th>1308</th>\n",
       "      <td>C:\\Users\\jalen\\OneDrive - University of Mount ...</td>\n",
       "      <td>pituitary</td>\n",
       "    </tr>\n",
       "    <tr>\n",
       "      <th>1309</th>\n",
       "      <td>C:\\Users\\jalen\\OneDrive - University of Mount ...</td>\n",
       "      <td>pituitary</td>\n",
       "    </tr>\n",
       "    <tr>\n",
       "      <th>1310</th>\n",
       "      <td>C:\\Users\\jalen\\OneDrive - University of Mount ...</td>\n",
       "      <td>pituitary</td>\n",
       "    </tr>\n",
       "  </tbody>\n",
       "</table>\n",
       "<p>1311 rows × 2 columns</p>\n",
       "</div>"
      ],
      "text/plain": [
       "                                             Class Path      Class\n",
       "0     C:\\Users\\jalen\\OneDrive - University of Mount ...     glioma\n",
       "1     C:\\Users\\jalen\\OneDrive - University of Mount ...     glioma\n",
       "2     C:\\Users\\jalen\\OneDrive - University of Mount ...     glioma\n",
       "3     C:\\Users\\jalen\\OneDrive - University of Mount ...     glioma\n",
       "4     C:\\Users\\jalen\\OneDrive - University of Mount ...     glioma\n",
       "...                                                 ...        ...\n",
       "1306  C:\\Users\\jalen\\OneDrive - University of Mount ...  pituitary\n",
       "1307  C:\\Users\\jalen\\OneDrive - University of Mount ...  pituitary\n",
       "1308  C:\\Users\\jalen\\OneDrive - University of Mount ...  pituitary\n",
       "1309  C:\\Users\\jalen\\OneDrive - University of Mount ...  pituitary\n",
       "1310  C:\\Users\\jalen\\OneDrive - University of Mount ...  pituitary\n",
       "\n",
       "[1311 rows x 2 columns]"
      ]
     },
     "execution_count": 11,
     "metadata": {},
     "output_type": "execute_result"
    }
   ],
   "source": [
    "ts_df"
   ]
  },
  {
   "cell_type": "code",
   "execution_count": 23,
   "id": "fa3c0701",
   "metadata": {},
   "outputs": [
    {
     "data": {
      "image/png": "[encoded data removed]",
      "text/plain": [
       "<Figure size 640x480 with 1 Axes>"
      ]
     },
     "metadata": {},
     "output_type": "display_data"
    }
   ],
   "source": [
    "# Count of images in training dataset\n",
    "plt.figure()\n",
    "sns.barplot(tr_df[\"Class\"])\n",
    "plt.xlabel(\"Count\")\n",
    "plt.ylabel(\"Class\")\n",
    "plt.title(\"Count of Images in Each Class (Training)\")\n",
    "plt.show()"
   ]
  },
  {
   "cell_type": "code",
   "execution_count": 25,
   "id": "d31b3500",
   "metadata": {},
   "outputs": [
    {
     "data": {
      "image/png": "[encoded data removed]",
      "text/plain": [
       "<Figure size 640x480 with 1 Axes>"
      ]
     },
     "metadata": {},
     "output_type": "display_data"
    }
   ],
   "source": [
    "# Count of images in the training daaset\n",
    "plt.figure()\n",
    "sns.barplot(ts_df[\"Class\"])\n",
    "plt.xlabel(\"Count\")\n",
    "plt.ylabel(\"Class\")\n",
    "plt.title(\"Count of Images in Each Class (Testing)\")\n",
    "plt.show()"
   ]
  },
  {
   "cell_type": "code",
   "execution_count": null,
   "id": "13d40ebb",
   "metadata": {},
   "outputs": [],
   "source": []
  }
 ],
 "metadata": {
  "kernelspec": {
   "display_name": "Python 3",
   "language": "python",
   "name": "python3"
  },
  "language_info": {
   "codemirror_mode": {
    "name": "ipython",
    "version": 3
   },
   "file_extension": ".py",
   "mimetype": "text/x-python",
   "name": "python",
   "nbconvert_exporter": "python",
   "pygments_lexer": "ipython3",
   "version": "3.12.10"
  }
 },
 "nbformat": 4,
 "nbformat_minor": 5
}
