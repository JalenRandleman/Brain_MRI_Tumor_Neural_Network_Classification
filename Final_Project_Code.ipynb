{
 "cells": [
  {
   "cell_type": "code",
   "execution_count": 1,
   "id": "fc19f309",
   "metadata": {},
   "outputs": [],
   "source": [
    "import numpy as np\n",
    "import pandas as pd\n",
    "import seaborn as sns\n",
    "import matplotlib.pyplot as plt\n",
    "import tensorflow as tf\n",
    "import os"
   ]
  },
  {
   "cell_type": "code",
   "execution_count": 2,
   "id": "9ceb3018",
   "metadata": {},
   "outputs": [],
   "source": [
    "def train_df(tr_path):\n",
    "    classes, class_paths = zip(*[(label, os.path.join(tr_path, label, image))\n",
    "                                 for label in os.listdir(tr_path) if os.path.isdir(os.path.join(tr_path, label))\n",
    "                                 for image in os.listdir(os.path.join(tr_path, label))]) \n",
    "    tr_df = pd.DataFrame({\"Class Path\": class_paths, \"Class\": classes})\n",
    "    return tr_df"
   ]
  },
  {
   "cell_type": "code",
   "execution_count": 3,
   "id": "11b1a097",
   "metadata": {},
   "outputs": [],
   "source": [
    "def test_df(ts_path):\n",
    "    classes, class_paths = zip(*[(label, os.path.join(ts_path, label, image))\n",
    "                                 for label in os.listdir(ts_path) if os.path.isdir(os.path.join(ts_path, label))\n",
    "                                 for image in os.listdir(os.path.join(ts_path, label))])\n",
    "    ts_df = pd.DataFrame({\"Class Path\": class_paths, \"Class\": classes})\n",
    "    return ts_df"
   ]
  },
  {
   "cell_type": "code",
   "execution_count": 4,
   "id": "588317c5",
   "metadata": {},
   "outputs": [],
   "source": [
    "tr_df = train_df(r\"Data\\Training\")\n",
    "ts_df = test_df(r\"Data\\Testing\")"
   ]
  },
  {
   "cell_type": "code",
   "execution_count": 5,
   "id": "bc7bd0f8",
   "metadata": {},
   "outputs": [
    {
     "data": {
      "text/html": [
       "<div>\n",
       "<style scoped>\n",
       "    .dataframe tbody tr th:only-of-type {\n",
       "        vertical-align: middle;\n",
       "    }\n",
       "\n",
       "    .dataframe tbody tr th {\n",
       "        vertical-align: top;\n",
       "    }\n",
       "\n",
       "    .dataframe thead th {\n",
       "        text-align: right;\n",
       "    }\n",
       "</style>\n",
       "<table border=\"1\" class=\"dataframe\">\n",
       "  <thead>\n",
       "    <tr style=\"text-align: right;\">\n",
       "      <th></th>\n",
       "      <th>Class Path</th>\n",
       "      <th>Class</th>\n",
       "    </tr>\n",
       "  </thead>\n",
       "  <tbody>\n",
       "    <tr>\n",
       "      <th>0</th>\n",
       "      <td>Data\\Training\\glioma\\Tr-glTr_0000.jpg</td>\n",
       "      <td>glioma</td>\n",
       "    </tr>\n",
       "    <tr>\n",
       "      <th>1</th>\n",
       "      <td>Data\\Training\\glioma\\Tr-glTr_0001.jpg</td>\n",
       "      <td>glioma</td>\n",
       "    </tr>\n",
       "    <tr>\n",
       "      <th>2</th>\n",
       "      <td>Data\\Training\\glioma\\Tr-glTr_0002.jpg</td>\n",
       "      <td>glioma</td>\n",
       "    </tr>\n",
       "    <tr>\n",
       "      <th>3</th>\n",
       "      <td>Data\\Training\\glioma\\Tr-glTr_0003.jpg</td>\n",
       "      <td>glioma</td>\n",
       "    </tr>\n",
       "    <tr>\n",
       "      <th>4</th>\n",
       "      <td>Data\\Training\\glioma\\Tr-glTr_0004.jpg</td>\n",
       "      <td>glioma</td>\n",
       "    </tr>\n",
       "    <tr>\n",
       "      <th>...</th>\n",
       "      <td>...</td>\n",
       "      <td>...</td>\n",
       "    </tr>\n",
       "    <tr>\n",
       "      <th>5707</th>\n",
       "      <td>Data\\Training\\pituitary\\Tr-pi_1452.jpg</td>\n",
       "      <td>pituitary</td>\n",
       "    </tr>\n",
       "    <tr>\n",
       "      <th>5708</th>\n",
       "      <td>Data\\Training\\pituitary\\Tr-pi_1453.jpg</td>\n",
       "      <td>pituitary</td>\n",
       "    </tr>\n",
       "    <tr>\n",
       "      <th>5709</th>\n",
       "      <td>Data\\Training\\pituitary\\Tr-pi_1454.jpg</td>\n",
       "      <td>pituitary</td>\n",
       "    </tr>\n",
       "    <tr>\n",
       "      <th>5710</th>\n",
       "      <td>Data\\Training\\pituitary\\Tr-pi_1455.jpg</td>\n",
       "      <td>pituitary</td>\n",
       "    </tr>\n",
       "    <tr>\n",
       "      <th>5711</th>\n",
       "      <td>Data\\Training\\pituitary\\Tr-pi_1456.jpg</td>\n",
       "      <td>pituitary</td>\n",
       "    </tr>\n",
       "  </tbody>\n",
       "</table>\n",
       "<p>5712 rows × 2 columns</p>\n",
       "</div>"
      ],
      "text/plain": [
       "                                  Class Path      Class\n",
       "0      Data\\Training\\glioma\\Tr-glTr_0000.jpg     glioma\n",
       "1      Data\\Training\\glioma\\Tr-glTr_0001.jpg     glioma\n",
       "2      Data\\Training\\glioma\\Tr-glTr_0002.jpg     glioma\n",
       "3      Data\\Training\\glioma\\Tr-glTr_0003.jpg     glioma\n",
       "4      Data\\Training\\glioma\\Tr-glTr_0004.jpg     glioma\n",
       "...                                      ...        ...\n",
       "5707  Data\\Training\\pituitary\\Tr-pi_1452.jpg  pituitary\n",
       "5708  Data\\Training\\pituitary\\Tr-pi_1453.jpg  pituitary\n",
       "5709  Data\\Training\\pituitary\\Tr-pi_1454.jpg  pituitary\n",
       "5710  Data\\Training\\pituitary\\Tr-pi_1455.jpg  pituitary\n",
       "5711  Data\\Training\\pituitary\\Tr-pi_1456.jpg  pituitary\n",
       "\n",
       "[5712 rows x 2 columns]"
      ]
     },
     "execution_count": 5,
     "metadata": {},
     "output_type": "execute_result"
    }
   ],
   "source": [
    "tr_df"
   ]
  },
  {
   "cell_type": "code",
   "execution_count": 6,
   "id": "a8b7c8a8",
   "metadata": {},
   "outputs": [
    {
     "data": {
      "text/html": [
       "<div>\n",
       "<style scoped>\n",
       "    .dataframe tbody tr th:only-of-type {\n",
       "        vertical-align: middle;\n",
       "    }\n",
       "\n",
       "    .dataframe tbody tr th {\n",
       "        vertical-align: top;\n",
       "    }\n",
       "\n",
       "    .dataframe thead th {\n",
       "        text-align: right;\n",
       "    }\n",
       "</style>\n",
       "<table border=\"1\" class=\"dataframe\">\n",
       "  <thead>\n",
       "    <tr style=\"text-align: right;\">\n",
       "      <th></th>\n",
       "      <th>Class Path</th>\n",
       "      <th>Class</th>\n",
       "    </tr>\n",
       "  </thead>\n",
       "  <tbody>\n",
       "    <tr>\n",
       "      <th>0</th>\n",
       "      <td>Data\\Testing\\glioma\\Te-glTr_0000.jpg</td>\n",
       "      <td>glioma</td>\n",
       "    </tr>\n",
       "    <tr>\n",
       "      <th>1</th>\n",
       "      <td>Data\\Testing\\glioma\\Te-glTr_0001.jpg</td>\n",
       "      <td>glioma</td>\n",
       "    </tr>\n",
       "    <tr>\n",
       "      <th>2</th>\n",
       "      <td>Data\\Testing\\glioma\\Te-glTr_0002.jpg</td>\n",
       "      <td>glioma</td>\n",
       "    </tr>\n",
       "    <tr>\n",
       "      <th>3</th>\n",
       "      <td>Data\\Testing\\glioma\\Te-glTr_0003.jpg</td>\n",
       "      <td>glioma</td>\n",
       "    </tr>\n",
       "    <tr>\n",
       "      <th>4</th>\n",
       "      <td>Data\\Testing\\glioma\\Te-glTr_0004.jpg</td>\n",
       "      <td>glioma</td>\n",
       "    </tr>\n",
       "    <tr>\n",
       "      <th>...</th>\n",
       "      <td>...</td>\n",
       "      <td>...</td>\n",
       "    </tr>\n",
       "    <tr>\n",
       "      <th>1306</th>\n",
       "      <td>Data\\Testing\\pituitary\\Te-pi_0295.jpg</td>\n",
       "      <td>pituitary</td>\n",
       "    </tr>\n",
       "    <tr>\n",
       "      <th>1307</th>\n",
       "      <td>Data\\Testing\\pituitary\\Te-pi_0296.jpg</td>\n",
       "      <td>pituitary</td>\n",
       "    </tr>\n",
       "    <tr>\n",
       "      <th>1308</th>\n",
       "      <td>Data\\Testing\\pituitary\\Te-pi_0297.jpg</td>\n",
       "      <td>pituitary</td>\n",
       "    </tr>\n",
       "    <tr>\n",
       "      <th>1309</th>\n",
       "      <td>Data\\Testing\\pituitary\\Te-pi_0298.jpg</td>\n",
       "      <td>pituitary</td>\n",
       "    </tr>\n",
       "    <tr>\n",
       "      <th>1310</th>\n",
       "      <td>Data\\Testing\\pituitary\\Te-pi_0299.jpg</td>\n",
       "      <td>pituitary</td>\n",
       "    </tr>\n",
       "  </tbody>\n",
       "</table>\n",
       "<p>1311 rows × 2 columns</p>\n",
       "</div>"
      ],
      "text/plain": [
       "                                 Class Path      Class\n",
       "0      Data\\Testing\\glioma\\Te-glTr_0000.jpg     glioma\n",
       "1      Data\\Testing\\glioma\\Te-glTr_0001.jpg     glioma\n",
       "2      Data\\Testing\\glioma\\Te-glTr_0002.jpg     glioma\n",
       "3      Data\\Testing\\glioma\\Te-glTr_0003.jpg     glioma\n",
       "4      Data\\Testing\\glioma\\Te-glTr_0004.jpg     glioma\n",
       "...                                     ...        ...\n",
       "1306  Data\\Testing\\pituitary\\Te-pi_0295.jpg  pituitary\n",
       "1307  Data\\Testing\\pituitary\\Te-pi_0296.jpg  pituitary\n",
       "1308  Data\\Testing\\pituitary\\Te-pi_0297.jpg  pituitary\n",
       "1309  Data\\Testing\\pituitary\\Te-pi_0298.jpg  pituitary\n",
       "1310  Data\\Testing\\pituitary\\Te-pi_0299.jpg  pituitary\n",
       "\n",
       "[1311 rows x 2 columns]"
      ]
     },
     "execution_count": 6,
     "metadata": {},
     "output_type": "execute_result"
    }
   ],
   "source": [
    "ts_df"
   ]
  },
  {
   "cell_type": "code",
   "execution_count": 7,
   "id": "fa3c0701",
   "metadata": {},
   "outputs": [
    {
     "data": {
      "image/png": "[encoded data removed]",
      "text/plain": [
       "<Figure size 640x480 with 1 Axes>"
      ]
     },
     "metadata": {},
     "output_type": "display_data"
    }
   ],
   "source": [
    "# Count of images in training dataset\n",
    "plt.figure()\n",
    "sns.barplot(tr_df[\"Class\"])\n",
    "plt.xlabel(\"Count\")\n",
    "plt.ylabel(\"Class\")\n",
    "plt.title(\"Count of Images in Each Class (Training)\")\n",
    "plt.show()"
   ]
  },
  {
   "cell_type": "code",
   "execution_count": 8,
   "id": "d31b3500",
   "metadata": {},
   "outputs": [
    {
     "data": {
      "image/png": "[encoded data removed]",
      "text/plain": [
       "<Figure size 640x480 with 1 Axes>"
      ]
     },
     "metadata": {},
     "output_type": "display_data"
    }
   ],
   "source": [
    "# Count of images in the training daaset\n",
    "plt.figure()\n",
    "sns.barplot(ts_df[\"Class\"])\n",
    "plt.xlabel(\"Count\")\n",
    "plt.ylabel(\"Class\")\n",
    "plt.title(\"Count of Images in Each Class (Testing)\")\n",
    "plt.show()"
   ]
  },
  {
   "cell_type": "code",
   "execution_count": null,
   "id": "13d40ebb",
   "metadata": {},
   "outputs": [],
   "source": []
  }
 ],
 "metadata": {
  "kernelspec": {
   "display_name": "Python 3",
   "language": "python",
   "name": "python3"
  },
  "language_info": {
   "codemirror_mode": {
    "name": "ipython",
    "version": 3
   },
   "file_extension": ".py",
   "mimetype": "text/x-python",
   "name": "python",
   "nbconvert_exporter": "python",
   "pygments_lexer": "ipython3",
   "version": "3.12.10"
  }
 },
 "nbformat": 4,
 "nbformat_minor": 5
}
